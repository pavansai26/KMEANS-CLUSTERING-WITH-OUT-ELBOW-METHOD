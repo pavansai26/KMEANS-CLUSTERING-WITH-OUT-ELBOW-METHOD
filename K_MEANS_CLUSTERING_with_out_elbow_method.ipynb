{
  "nbformat": 4,
  "nbformat_minor": 0,
  "metadata": {
    "colab": {
      "name": " K MEANS  CLUSTERING with out elbow method.ipynb",
      "provenance": [],
      "private_outputs": true,
      "authorship_tag": "ABX9TyP/T5CYhKdrW6ZtNghIp8MD",
      "include_colab_link": true
    },
    "kernelspec": {
      "name": "python3",
      "display_name": "Python 3"
    },
    "accelerator": "GPU"
  },
  "cells": [
    {
      "cell_type": "markdown",
      "metadata": {
        "id": "view-in-github",
        "colab_type": "text"
      },
      "source": [
        "<a href=\"https://colab.research.google.com/github/pavansai26/KMEANS-CLUSTERING-WITH-OUT-ELBOW-METHOD/blob/master/K_MEANS_CLUSTERING_with_out_elbow_method.ipynb\" target=\"_parent\"><img src=\"https://colab.research.google.com/assets/colab-badge.svg\" alt=\"Open In Colab\"/></a>"
      ]
    },
    {
      "cell_type": "code",
      "metadata": {
        "id": "ewtjnJ8RIBUC",
        "colab_type": "code",
        "colab": {}
      },
      "source": [
        "from sklearn.cluster import KMeans"
      ],
      "execution_count": 0,
      "outputs": []
    },
    {
      "cell_type": "code",
      "metadata": {
        "id": "PRR2ORHCKa8t",
        "colab_type": "code",
        "colab": {}
      },
      "source": [
        "import matplotlib.pyplot as plt\n"
      ],
      "execution_count": 0,
      "outputs": []
    },
    {
      "cell_type": "code",
      "metadata": {
        "id": "Ih-H8wQsKeAy",
        "colab_type": "code",
        "colab": {}
      },
      "source": [
        "from mpl_toolkits.mplot3d import Axes3D"
      ],
      "execution_count": 0,
      "outputs": []
    },
    {
      "cell_type": "code",
      "metadata": {
        "id": "rvhipenwKpNQ",
        "colab_type": "code",
        "colab": {}
      },
      "source": [
        "import numpy as np"
      ],
      "execution_count": 0,
      "outputs": []
    },
    {
      "cell_type": "code",
      "metadata": {
        "id": "NQAvTqwyLl5S",
        "colab_type": "code",
        "colab": {}
      },
      "source": [
        "from sklearn import datasets"
      ],
      "execution_count": 0,
      "outputs": []
    },
    {
      "cell_type": "code",
      "metadata": {
        "id": "xYunj59tMPtO",
        "colab_type": "code",
        "colab": {}
      },
      "source": [
        "import pandas as pd"
      ],
      "execution_count": 0,
      "outputs": []
    },
    {
      "cell_type": "code",
      "metadata": {
        "id": "LgQN1sbgLrUA",
        "colab_type": "code",
        "colab": {}
      },
      "source": [
        "from google.colab import drive\n",
        "drive.mount('/gdrive')"
      ],
      "execution_count": 0,
      "outputs": []
    },
    {
      "cell_type": "code",
      "metadata": {
        "id": "vbI786iWLwqO",
        "colab_type": "code",
        "colab": {}
      },
      "source": [
        "data=pd.read_csv('/gdrive/My Drive/Colab Notebooks/Iris.csv')"
      ],
      "execution_count": 0,
      "outputs": []
    },
    {
      "cell_type": "code",
      "metadata": {
        "id": "yMMhmV7QLzco",
        "colab_type": "code",
        "colab": {}
      },
      "source": [
        "y=pd.DataFrame(data['Species'])\n",
        "y"
      ],
      "execution_count": 0,
      "outputs": []
    },
    {
      "cell_type": "code",
      "metadata": {
        "id": "QRNJRkzNMa7o",
        "colab_type": "code",
        "colab": {}
      },
      "source": [
        "x=pd.DataFrame(data[['SepalLengthCm','SepalWidthCm','PetalLengthCm','PetalWidthCm']])\n",
        "x"
      ],
      "execution_count": 0,
      "outputs": []
    },
    {
      "cell_type": "code",
      "metadata": {
        "id": "GBqPDx3nMes_",
        "colab_type": "code",
        "colab": {}
      },
      "source": [
        "km=KMeans(n_clusters=3)"
      ],
      "execution_count": 0,
      "outputs": []
    },
    {
      "cell_type": "code",
      "metadata": {
        "id": "kqTtsDK_MpVd",
        "colab_type": "code",
        "colab": {}
      },
      "source": [
        "km.fit(x)"
      ],
      "execution_count": 0,
      "outputs": []
    },
    {
      "cell_type": "code",
      "metadata": {
        "id": "qbKJGq2sMrwX",
        "colab_type": "code",
        "colab": {}
      },
      "source": [
        "km.predict(x)"
      ],
      "execution_count": 0,
      "outputs": []
    },
    {
      "cell_type": "code",
      "metadata": {
        "id": "pL4R28EhMzzq",
        "colab_type": "code",
        "colab": {}
      },
      "source": [
        "labels=km.labels_"
      ],
      "execution_count": 0,
      "outputs": []
    },
    {
      "cell_type": "code",
      "metadata": {
        "id": "Q5s-UmAAM562",
        "colab_type": "code",
        "colab": {}
      },
      "source": [
        "labels"
      ],
      "execution_count": 0,
      "outputs": []
    },
    {
      "cell_type": "code",
      "metadata": {
        "id": "FMGEDAsyM8F9",
        "colab_type": "code",
        "colab": {}
      },
      "source": [
        "fig=plt.figure(1)\n",
        "ax=Axes3D(fig,rect=[0,0,0.95,1],elev=48,azim=134)\n",
        "ax.scatter(x.iloc[:,3],x.iloc[:,0],x.iloc[:,2],c=labels.astype(np.float),edgecolor='k',s=50)\n",
        "ax.set_xlabel('peta width')\n",
        "ax.set_ylabel('sepal length')\n",
        "ax.set_zlabel('petal length')\n",
        "plt.title('k means', fontsize=14)"
      ],
      "execution_count": 0,
      "outputs": []
    },
    {
      "cell_type": "code",
      "metadata": {
        "id": "fQD38b82OInm",
        "colab_type": "code",
        "colab": {}
      },
      "source": [
        ""
      ],
      "execution_count": 0,
      "outputs": []
    }
  ]
}